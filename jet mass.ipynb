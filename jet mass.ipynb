{
 "cells": [
  {
   "cell_type": "code",
   "execution_count": 1,
   "id": "289c8dbe",
   "metadata": {},
   "outputs": [],
   "source": [
    "from energyflow.archs.moment import EFN_moment as moment_model\n",
    "#from energyflow.archs.moment_simplified import EFN_moment as moment_model\n",
    "#from energyflow.archs.moment_rweighted import PFN_moment as moment_model\n",
    "from energyflow.datasets import qg_jets\n",
    "from tensorflow.keras.models import load_model\n",
    "from energyflow.archs.efn import EFN as normal_model\n",
    "from tensorflow.keras.callbacks import ModelCheckpoint\n",
    "from math import comb\n",
    "from numpy import load,average, arctan2, sqrt, stack, cos, sin\n",
    "import numpy as np\n",
    "import tensorflow as tf\n",
    "from energyflow.utils import data_split"
   ]
  },
  {
   "cell_type": "code",
   "execution_count": 2,
   "id": "458d009e",
   "metadata": {},
   "outputs": [],
   "source": [
    "latent = 2\n",
    "order = 2\n",
    "output_dim = 1\n",
    "num_epoch = 20\n",
    "batch_size = 500\n",
    "input_dim=[2]\n",
    "loss = 'mse'\n",
    "metrics = ['mse']\n",
    "verbose = 2"
   ]
  },
  {
   "cell_type": "code",
   "execution_count": 3,
   "id": "f6b6e6a3",
   "metadata": {},
   "outputs": [],
   "source": [
    "data = qg_jets.load(300000)"
   ]
  },
  {
   "cell_type": "code",
   "execution_count": 4,
   "id": "db465747",
   "metadata": {},
   "outputs": [],
   "source": [
    "X = data[0]\n",
    "del data"
   ]
  },
  {
   "cell_type": "code",
   "execution_count": 5,
   "id": "a14759d1",
   "metadata": {},
   "outputs": [],
   "source": [
    "from numpy import sqrt, cos, std"
   ]
  },
  {
   "cell_type": "code",
   "execution_count": 6,
   "id": "44bb4997",
   "metadata": {},
   "outputs": [],
   "source": [
    "X = X[:,:,:3]\n",
    "Y = []\n",
    "for x in X:\n",
    "    mask = x[:,0] > 0\n",
    "    yphi_avg = average(x[mask,1:3], weights=x[mask,0], axis=0)\n",
    "    x[mask,1:3] -= yphi_avg\n",
    "    x[mask,0] /= x[:,0].sum()\n",
    "    y = 2*sum(x[mask,0]*(1 - cos(sqrt(x[mask,1]**2 + x[mask,2]**2))) )\n",
    "    Y.append(y)"
   ]
  },
  {
   "cell_type": "code",
   "execution_count": 7,
   "id": "91859a2f",
   "metadata": {},
   "outputs": [],
   "source": [
    " Y=np.array(Y)"
   ]
  },
  {
   "cell_type": "code",
   "execution_count": 8,
   "id": "b0911868",
   "metadata": {},
   "outputs": [],
   "source": [
    "train = 210000\n",
    "val = 60000\n",
    "test = 30000"
   ]
  },
  {
   "cell_type": "code",
   "execution_count": 9,
   "id": "0a06ab30",
   "metadata": {},
   "outputs": [],
   "source": [
    "(z_train, z_val, z_test, \n",
    "p_train, p_val, p_test,\n",
    "Y_train, Y_val, Y_test) = data_split(X[:,:,0], X[:,:,1:3],Y, val=val, test=test)"
   ]
  },
  {
   "cell_type": "code",
   "execution_count": 10,
   "id": "fac7f516",
   "metadata": {},
   "outputs": [],
   "source": [
    "X_train, X_val, X_test = [z_train, p_train], [z_val, p_val], [z_test, p_test]"
   ]
  },
  {
   "cell_type": "code",
   "execution_count": 11,
   "id": "ea31c94f",
   "metadata": {},
   "outputs": [],
   "source": [
    "del X,Y"
   ]
  },
  {
   "cell_type": "code",
   "execution_count": null,
   "id": "9898d3e0",
   "metadata": {
    "scrolled": true
   },
   "outputs": [
    {
     "name": "stderr",
     "output_type": "stream",
     "text": [
      "C:\\Users\\athis\\Anaconda3\\lib\\site-packages\\energyflow\\archs\\moment_layers.py:73: VisibleDeprecationWarning: Creating an ndarray from ragged nested sequences (which is a list-or-tuple of lists-or-tuples-or ndarrays with different lengths or shapes) is deprecated. If you meant to do this, you must specify 'dtype=object' when creating the ndarray.\n",
      "  matrix = np.array([[1 for x in list(flatten_list(itmd_id_list[i:]))] for i in range(len(itmd_id_list))])\n"
     ]
    },
    {
     "name": "stdout",
     "output_type": "stream",
     "text": [
      "Model: \"model\"\n",
      "__________________________________________________________________________________________________\n",
      "Layer (type)                    Output Shape         Param #     Connected to                     \n",
      "==================================================================================================\n",
      "input_1 (InputLayer)            [(None, None, 2)]    0                                            \n",
      "__________________________________________________________________________________________________\n",
      "tdist0_0 (TimeDistributed)      (None, None, 2)      4           input_1[0][0]                    \n",
      "__________________________________________________________________________________________________\n",
      "activation (Activation)         (None, None, 2)      0           tdist0_0[0][0]                   \n",
      "__________________________________________________________________________________________________\n",
      "zs_input (InputLayer)           [(None, None)]       0                                            \n",
      "__________________________________________________________________________________________________\n",
      "tf.identity (TFOpLambda)        (None, None, 2)      0           activation[0][0]                 \n",
      "__________________________________________________________________________________________________\n",
      "mask (Lambda)                   (None, None)         0           zs_input[0][0]                   \n",
      "__________________________________________________________________________________________________\n",
      "moment (Moment)                 (None, None, 6)      0           tf.identity[0][0]                \n",
      "__________________________________________________________________________________________________\n",
      "sum (Dot)                       (None, 6)            0           mask[0][0]                       \n",
      "                                                                 moment[0][0]                     \n",
      "__________________________________________________________________________________________________\n",
      "output (Dense)                  (None, 1)            6           sum[0][0]                        \n",
      "__________________________________________________________________________________________________\n",
      "activation_1 (Activation)       (None, 1)            0           output[0][0]                     \n",
      "==================================================================================================\n",
      "Total params: 10\n",
      "Trainable params: 10\n",
      "Non-trainable params: 0\n",
      "__________________________________________________________________________________________________\n",
      "Epoch 1/100\n",
      "420/420 - 4s - loss: 0.0744 - mse: 0.0744 - val_loss: 0.0134 - val_mse: 0.0134\n",
      "Epoch 2/100\n",
      "420/420 - 1s - loss: 0.0040 - mse: 0.0040 - val_loss: 8.8831e-04 - val_mse: 8.8831e-04\n",
      "Epoch 3/100\n",
      "420/420 - 1s - loss: 5.8323e-04 - mse: 5.8323e-04 - val_loss: 3.9492e-04 - val_mse: 3.9492e-04\n",
      "Epoch 4/100\n",
      "420/420 - 1s - loss: 3.1829e-04 - mse: 3.1829e-04 - val_loss: 2.4811e-04 - val_mse: 2.4811e-04\n",
      "Epoch 5/100\n",
      "420/420 - 1s - loss: 2.1396e-04 - mse: 2.1396e-04 - val_loss: 1.7730e-04 - val_mse: 1.7730e-04\n",
      "Epoch 6/100\n",
      "420/420 - 1s - loss: 1.5869e-04 - mse: 1.5869e-04 - val_loss: 1.3588e-04 - val_mse: 1.3588e-04\n",
      "Epoch 7/100\n",
      "420/420 - 1s - loss: 1.2395e-04 - mse: 1.2395e-04 - val_loss: 1.0755e-04 - val_mse: 1.0755e-04\n",
      "Epoch 8/100\n",
      "420/420 - 1s - loss: 9.7789e-05 - mse: 9.7789e-05 - val_loss: 8.3533e-05 - val_mse: 8.3533e-05\n",
      "Epoch 9/100\n",
      "420/420 - 1s - loss: 7.2585e-05 - mse: 7.2585e-05 - val_loss: 5.7627e-05 - val_mse: 5.7627e-05\n",
      "Epoch 10/100\n",
      "420/420 - 1s - loss: 4.6611e-05 - mse: 4.6611e-05 - val_loss: 3.5533e-05 - val_mse: 3.5533e-05\n",
      "Epoch 11/100\n",
      "420/420 - 1s - loss: 3.2109e-05 - mse: 3.2109e-05 - val_loss: 2.8541e-05 - val_mse: 2.8541e-05\n",
      "Epoch 12/100\n",
      "420/420 - 1s - loss: 2.7967e-05 - mse: 2.7967e-05 - val_loss: 2.5916e-05 - val_mse: 2.5916e-05\n",
      "Epoch 13/100\n",
      "420/420 - 1s - loss: 2.5602e-05 - mse: 2.5602e-05 - val_loss: 2.3927e-05 - val_mse: 2.3927e-05\n",
      "Epoch 14/100\n",
      "420/420 - 1s - loss: 2.3747e-05 - mse: 2.3747e-05 - val_loss: 2.2375e-05 - val_mse: 2.2375e-05\n",
      "Epoch 15/100\n",
      "420/420 - 1s - loss: 2.2306e-05 - mse: 2.2306e-05 - val_loss: 2.1228e-05 - val_mse: 2.1228e-05\n",
      "Epoch 16/100\n",
      "420/420 - 1s - loss: 2.1221e-05 - mse: 2.1221e-05 - val_loss: 2.0332e-05 - val_mse: 2.0332e-05\n",
      "Epoch 17/100\n",
      "420/420 - 1s - loss: 2.0430e-05 - mse: 2.0430e-05 - val_loss: 1.9738e-05 - val_mse: 1.9738e-05\n",
      "Epoch 18/100\n",
      "420/420 - 1s - loss: 1.9878e-05 - mse: 1.9878e-05 - val_loss: 1.9337e-05 - val_mse: 1.9337e-05\n",
      "Epoch 19/100\n",
      "420/420 - 1s - loss: 1.9514e-05 - mse: 1.9514e-05 - val_loss: 1.9089e-05 - val_mse: 1.9089e-05\n",
      "Epoch 20/100\n",
      "420/420 - 1s - loss: 1.9286e-05 - mse: 1.9286e-05 - val_loss: 1.8957e-05 - val_mse: 1.8957e-05\n",
      "Epoch 21/100\n",
      "420/420 - 1s - loss: 1.9160e-05 - mse: 1.9160e-05 - val_loss: 1.8906e-05 - val_mse: 1.8906e-05\n",
      "Epoch 22/100\n",
      "420/420 - 1s - loss: 1.9106e-05 - mse: 1.9106e-05 - val_loss: 1.8894e-05 - val_mse: 1.8894e-05\n",
      "Epoch 23/100\n",
      "420/420 - 1s - loss: 1.9081e-05 - mse: 1.9081e-05 - val_loss: 1.8877e-05 - val_mse: 1.8877e-05\n",
      "Epoch 24/100\n",
      "420/420 - 1s - loss: 1.9081e-05 - mse: 1.9081e-05 - val_loss: 1.8876e-05 - val_mse: 1.8876e-05\n",
      "Epoch 25/100\n",
      "420/420 - 1s - loss: 1.9078e-05 - mse: 1.9078e-05 - val_loss: 1.8894e-05 - val_mse: 1.8894e-05\n",
      "Epoch 26/100\n",
      "420/420 - 1s - loss: 1.9094e-05 - mse: 1.9094e-05 - val_loss: 1.8903e-05 - val_mse: 1.8903e-05\n",
      "Epoch 27/100\n",
      "420/420 - 1s - loss: 1.9094e-05 - mse: 1.9094e-05 - val_loss: 1.8968e-05 - val_mse: 1.8968e-05\n",
      "Epoch 28/100\n",
      "420/420 - 1s - loss: 1.9105e-05 - mse: 1.9105e-05 - val_loss: 1.9047e-05 - val_mse: 1.9047e-05\n",
      "Epoch 29/100\n",
      "420/420 - 1s - loss: 1.9107e-05 - mse: 1.9107e-05 - val_loss: 1.8971e-05 - val_mse: 1.8971e-05\n",
      "Epoch 30/100\n",
      "420/420 - 1s - loss: 1.9119e-05 - mse: 1.9119e-05 - val_loss: 1.8904e-05 - val_mse: 1.8904e-05\n",
      "Epoch 31/100\n",
      "420/420 - 1s - loss: 1.9123e-05 - mse: 1.9123e-05 - val_loss: 1.8920e-05 - val_mse: 1.8920e-05\n",
      "Epoch 32/100\n",
      "420/420 - 1s - loss: 1.9116e-05 - mse: 1.9116e-05 - val_loss: 1.9063e-05 - val_mse: 1.9063e-05\n",
      "Epoch 33/100\n",
      "420/420 - 1s - loss: 1.9111e-05 - mse: 1.9111e-05 - val_loss: 1.8981e-05 - val_mse: 1.8981e-05\n",
      "Epoch 34/100\n",
      "420/420 - 1s - loss: 1.9121e-05 - mse: 1.9121e-05 - val_loss: 1.8940e-05 - val_mse: 1.8940e-05\n",
      "Epoch 35/100\n",
      "420/420 - 1s - loss: 1.9126e-05 - mse: 1.9126e-05 - val_loss: 1.9242e-05 - val_mse: 1.9242e-05\n",
      "Epoch 36/100\n",
      "420/420 - 1s - loss: 1.9133e-05 - mse: 1.9133e-05 - val_loss: 1.8964e-05 - val_mse: 1.8964e-05\n",
      "Epoch 37/100\n",
      "420/420 - 1s - loss: 1.9134e-05 - mse: 1.9134e-05 - val_loss: 1.8992e-05 - val_mse: 1.8992e-05\n",
      "Epoch 38/100\n",
      "420/420 - 1s - loss: 1.9122e-05 - mse: 1.9122e-05 - val_loss: 1.8937e-05 - val_mse: 1.8937e-05\n",
      "Epoch 39/100\n",
      "420/420 - 1s - loss: 1.9104e-05 - mse: 1.9104e-05 - val_loss: 1.8929e-05 - val_mse: 1.8929e-05\n",
      "Epoch 40/100\n",
      "420/420 - 1s - loss: 1.9146e-05 - mse: 1.9146e-05 - val_loss: 1.8931e-05 - val_mse: 1.8931e-05\n",
      "Epoch 41/100\n",
      "420/420 - 1s - loss: 1.9098e-05 - mse: 1.9098e-05 - val_loss: 1.9073e-05 - val_mse: 1.9073e-05\n",
      "Epoch 42/100\n",
      "420/420 - 1s - loss: 1.9101e-05 - mse: 1.9101e-05 - val_loss: 1.9088e-05 - val_mse: 1.9088e-05\n",
      "Epoch 43/100\n",
      "420/420 - 1s - loss: 1.9122e-05 - mse: 1.9122e-05 - val_loss: 1.8970e-05 - val_mse: 1.8970e-05\n",
      "Epoch 44/100\n",
      "420/420 - 1s - loss: 1.9123e-05 - mse: 1.9123e-05 - val_loss: 1.8963e-05 - val_mse: 1.8963e-05\n",
      "Epoch 45/100\n",
      "420/420 - 1s - loss: 1.9119e-05 - mse: 1.9119e-05 - val_loss: 1.9103e-05 - val_mse: 1.9103e-05\n",
      "Epoch 46/100\n",
      "420/420 - 1s - loss: 1.9152e-05 - mse: 1.9152e-05 - val_loss: 1.9023e-05 - val_mse: 1.9023e-05\n",
      "Epoch 47/100\n",
      "420/420 - 1s - loss: 1.9109e-05 - mse: 1.9109e-05 - val_loss: 1.8953e-05 - val_mse: 1.8953e-05\n",
      "Epoch 48/100\n",
      "420/420 - 1s - loss: 1.9120e-05 - mse: 1.9120e-05 - val_loss: 1.9245e-05 - val_mse: 1.9245e-05\n",
      "Epoch 49/100\n",
      "420/420 - 1s - loss: 1.9118e-05 - mse: 1.9118e-05 - val_loss: 1.8994e-05 - val_mse: 1.8994e-05\n",
      "Epoch 50/100\n",
      "420/420 - 1s - loss: 1.9102e-05 - mse: 1.9102e-05 - val_loss: 1.9010e-05 - val_mse: 1.9010e-05\n",
      "Epoch 51/100\n",
      "420/420 - 1s - loss: 1.9138e-05 - mse: 1.9138e-05 - val_loss: 1.8985e-05 - val_mse: 1.8985e-05\n",
      "Epoch 52/100\n",
      "420/420 - 1s - loss: 1.9109e-05 - mse: 1.9109e-05 - val_loss: 1.8990e-05 - val_mse: 1.8990e-05\n",
      "Epoch 53/100\n",
      "420/420 - 1s - loss: 1.9107e-05 - mse: 1.9107e-05 - val_loss: 1.8978e-05 - val_mse: 1.8978e-05\n"
     ]
    },
    {
     "name": "stdout",
     "output_type": "stream",
     "text": [
      "Epoch 54/100\n",
      "420/420 - 1s - loss: 1.9123e-05 - mse: 1.9123e-05 - val_loss: 1.8989e-05 - val_mse: 1.8989e-05\n",
      "Epoch 55/100\n",
      "420/420 - 1s - loss: 1.9103e-05 - mse: 1.9103e-05 - val_loss: 1.9081e-05 - val_mse: 1.9081e-05\n",
      "Epoch 56/100\n",
      "420/420 - 1s - loss: 1.9115e-05 - mse: 1.9115e-05 - val_loss: 1.8990e-05 - val_mse: 1.8990e-05\n",
      "Epoch 57/100\n",
      "420/420 - 1s - loss: 1.9131e-05 - mse: 1.9131e-05 - val_loss: 1.9211e-05 - val_mse: 1.9211e-05\n",
      "Epoch 58/100\n",
      "420/420 - 1s - loss: 1.9118e-05 - mse: 1.9118e-05 - val_loss: 1.8990e-05 - val_mse: 1.8990e-05\n",
      "Epoch 59/100\n",
      "420/420 - 1s - loss: 1.9104e-05 - mse: 1.9104e-05 - val_loss: 1.9048e-05 - val_mse: 1.9048e-05\n",
      "Epoch 60/100\n",
      "420/420 - 1s - loss: 1.9096e-05 - mse: 1.9096e-05 - val_loss: 1.9010e-05 - val_mse: 1.9010e-05\n",
      "Epoch 61/100\n",
      "420/420 - 1s - loss: 1.9092e-05 - mse: 1.9092e-05 - val_loss: 1.9020e-05 - val_mse: 1.9020e-05\n",
      "Epoch 62/100\n",
      "420/420 - 1s - loss: 1.9129e-05 - mse: 1.9129e-05 - val_loss: 1.9039e-05 - val_mse: 1.9039e-05\n",
      "Epoch 63/100\n",
      "420/420 - 1s - loss: 1.9104e-05 - mse: 1.9104e-05 - val_loss: 1.9046e-05 - val_mse: 1.9046e-05\n",
      "Epoch 64/100\n",
      "420/420 - 1s - loss: 1.9104e-05 - mse: 1.9104e-05 - val_loss: 1.8996e-05 - val_mse: 1.8996e-05\n",
      "Epoch 65/100\n",
      "420/420 - 1s - loss: 1.9131e-05 - mse: 1.9131e-05 - val_loss: 1.9076e-05 - val_mse: 1.9076e-05\n",
      "Epoch 66/100\n",
      "420/420 - 1s - loss: 1.9130e-05 - mse: 1.9130e-05 - val_loss: 1.9022e-05 - val_mse: 1.9022e-05\n",
      "Epoch 67/100\n",
      "420/420 - 1s - loss: 1.9112e-05 - mse: 1.9112e-05 - val_loss: 1.9023e-05 - val_mse: 1.9023e-05\n",
      "Epoch 68/100\n",
      "420/420 - 1s - loss: 1.9098e-05 - mse: 1.9098e-05 - val_loss: 1.9015e-05 - val_mse: 1.9015e-05\n",
      "Epoch 69/100\n",
      "420/420 - 1s - loss: 1.9103e-05 - mse: 1.9103e-05 - val_loss: 1.9006e-05 - val_mse: 1.9006e-05\n",
      "Epoch 70/100\n",
      "420/420 - 1s - loss: 1.9106e-05 - mse: 1.9106e-05 - val_loss: 1.9170e-05 - val_mse: 1.9170e-05\n",
      "Epoch 71/100\n",
      "420/420 - 1s - loss: 1.9091e-05 - mse: 1.9091e-05 - val_loss: 1.9056e-05 - val_mse: 1.9056e-05\n",
      "Epoch 72/100\n",
      "420/420 - 1s - loss: 1.9081e-05 - mse: 1.9081e-05 - val_loss: 1.9016e-05 - val_mse: 1.9016e-05\n",
      "Epoch 73/100\n",
      "420/420 - 1s - loss: 1.9093e-05 - mse: 1.9093e-05 - val_loss: 1.9303e-05 - val_mse: 1.9303e-05\n",
      "Epoch 74/100\n",
      "420/420 - 1s - loss: 1.9120e-05 - mse: 1.9120e-05 - val_loss: 1.9072e-05 - val_mse: 1.9072e-05\n",
      "Epoch 75/100\n",
      "420/420 - 1s - loss: 1.9119e-05 - mse: 1.9119e-05 - val_loss: 1.9028e-05 - val_mse: 1.9028e-05\n",
      "Epoch 76/100\n",
      "420/420 - 1s - loss: 1.9141e-05 - mse: 1.9141e-05 - val_loss: 1.9028e-05 - val_mse: 1.9028e-05\n",
      "Epoch 77/100\n",
      "420/420 - 1s - loss: 1.9095e-05 - mse: 1.9095e-05 - val_loss: 1.9064e-05 - val_mse: 1.9064e-05\n",
      "Epoch 78/100\n",
      "420/420 - 1s - loss: 1.9118e-05 - mse: 1.9118e-05 - val_loss: 1.9095e-05 - val_mse: 1.9095e-05\n",
      "Epoch 79/100\n",
      "420/420 - 1s - loss: 1.9100e-05 - mse: 1.9100e-05 - val_loss: 1.9110e-05 - val_mse: 1.9110e-05\n",
      "Epoch 80/100\n",
      "420/420 - 1s - loss: 1.9115e-05 - mse: 1.9115e-05 - val_loss: 1.9264e-05 - val_mse: 1.9264e-05\n",
      "Epoch 81/100\n",
      "420/420 - 1s - loss: 1.9095e-05 - mse: 1.9095e-05 - val_loss: 1.9126e-05 - val_mse: 1.9126e-05\n",
      "Epoch 82/100\n",
      "420/420 - 1s - loss: 1.9111e-05 - mse: 1.9111e-05 - val_loss: 1.9100e-05 - val_mse: 1.9100e-05\n",
      "Epoch 83/100\n",
      "420/420 - 1s - loss: 1.9118e-05 - mse: 1.9118e-05 - val_loss: 1.9285e-05 - val_mse: 1.9285e-05\n",
      "Epoch 84/100\n",
      "420/420 - 1s - loss: 1.9111e-05 - mse: 1.9111e-05 - val_loss: 1.9167e-05 - val_mse: 1.9167e-05\n",
      "Epoch 85/100\n",
      "420/420 - 1s - loss: 1.9140e-05 - mse: 1.9140e-05 - val_loss: 1.9030e-05 - val_mse: 1.9030e-05\n",
      "Epoch 86/100\n"
     ]
    }
   ],
   "source": [
    "moment_auc_list = []\n",
    "efn_auc_list = []\n",
    "for i in range(10):\n",
    "    x=1\n",
    "    while x > 1e-9:  \n",
    "        moment = moment_model(Phi_k_inits = 'identity',F_k_inits = 'ones', Phi_mapping_dim = [2,2], F_acts= None, Phi_acts=None, bias = False, loss=loss ,metrics=metrics, order=order, architecture_type = 'moment', output_dim=output_dim, output_act='linear', Phi_sizes=[], F_sizes=[], summary=True)\n",
    "        moment.fit(X_train, Y_train,\n",
    "                        epochs=100,\n",
    "                        batch_size=batch_size, \n",
    "                        validation_data=(X_val, Y_val),\n",
    "                        verbose=verbose)\n",
    "        x = sum((moment.predict(X_test)[:,0] - Y_test)**2)/10000\n",
    "    moment_auc_list.append(x)\n",
    "    efn = normal_model(loss=loss,metrics=metrics,Phi_acts=['linear'] ,input_dim=2,output_dim=output_dim,output_act='linear', Phi_sizes=[6], F_sizes=[], summary=True)\n",
    "    efn.fit(X_train, Y_train,\n",
    "                    epochs=10,\n",
    "                    batch_size=batch_size, \n",
    "                    validation_data=(X_val, Y_val),\n",
    "                    verbose=verbose)\n",
    "    efn_auc_list.append(sum((efn.predict(X_test)[:,0] - Y_test)**2)/10000)\n",
    "    \n",
    "    "
   ]
  },
  {
   "cell_type": "code",
   "execution_count": null,
   "id": "dd98c973",
   "metadata": {
    "scrolled": true
   },
   "outputs": [],
   "source": [
    "moment = moment_model(Phi_k_inits = 'identity', Phi_mapping_dim = [2,2], F_acts= None, Phi_acts=None, bias = False, loss=loss ,metrics=metrics, order=order, architecture_type = 'moment', output_dim=output_dim, output_act='linear', Phi_sizes=[], F_sizes=[], summary=True)\n",
    "moment.layers[1].trainable = False\n",
    "moment.layers[-2].set_weights(np.array([[[0],[0],[0],[1],[0],[1]]]))\n",
    "moment.layers[-2].trainable = False\n",
    "moment._model.compile(loss=loss, optimizer='adam')\n",
    "moment.fit(X_train, Y_train,\n",
    "                        epochs=200,\n",
    "                        batch_size=750, \n",
    "                        validation_data=(X_val, Y_val),\n",
    "                        verbose=verbose)"
   ]
  },
  {
   "cell_type": "code",
   "execution_count": 113,
   "id": "49a799e6",
   "metadata": {
    "scrolled": true
   },
   "outputs": [
    {
     "data": {
      "image/png": "[encoded data removed]",
      "text/plain": [
       "<Figure size 1200x500 with 4 Axes>"
      ]
     },
     "metadata": {},
     "output_type": "display_data"
    },
    {
     "data": {
      "text/plain": [
       "(<Figure size 1200x500 with 4 Axes>,\n",
       " array([<AxesSubplot:xlabel='Rapidity y', ylabel='Azimuthal Angle phi'>,\n",
       "        <AxesSubplot:xlabel='Rapidity y', ylabel='Azimuthal Angle phi'>],\n",
       "       dtype=object))"
      ]
     },
     "execution_count": 113,
     "metadata": {},
     "output_type": "execute_result"
    }
   ],
   "source": [
    "moment.plot_phis(0.5)"
   ]
  },
  {
   "cell_type": "code",
   "execution_count": 115,
   "id": "938dba16",
   "metadata": {},
   "outputs": [],
   "source": [
    "F_weights = moment.layers[-2].weights[0][:,0]\n",
    "dummy, k1,k2,k3,k4,k5  = F_weights\n",
    "Phi_weights = moment.layers[1].weights[0]\n",
    "a,b,c,d = list(Phi_weights[0]) + list(Phi_weights[1])\n",
    "K = 4*k1*k2*k4"
   ]
  },
  {
   "cell_type": "code",
   "execution_count": 116,
   "id": "0565023d",
   "metadata": {},
   "outputs": [
    {
     "name": "stdout",
     "output_type": "stream",
     "text": [
      "tf.Tensor(\n",
      "[ 1.7594934e-05  6.0794241e-07 -2.1223917e-05  9.9500912e-01\n",
      "  1.5486356e-04  9.9487692e-01], shape=(6,), dtype=float32)\n"
     ]
    }
   ],
   "source": [
    "print(F_weights)"
   ]
  },
  {
   "cell_type": "code",
   "execution_count": 100,
   "id": "35207704",
   "metadata": {},
   "outputs": [
    {
     "data": {
      "text/plain": [
       "<tf.Tensor: shape=(), dtype=float32, numpy=1.1883218>"
      ]
     },
     "execution_count": 100,
     "metadata": {},
     "output_type": "execute_result"
    }
   ],
   "source": [
    "K*a*d + K*b*c + 2*k3*a*b + 2*k5*c*d"
   ]
  },
  {
   "cell_type": "code",
   "execution_count": null,
   "id": "242ee04e",
   "metadata": {},
   "outputs": [],
   "source": [
    "efn.fit(X_train, Y_train,\n",
    "                epochs=100,\n",
    "                batch_size=batch_size, \n",
    "                validation_data=(X_val, Y_val),\n",
    "                verbose=verbose)"
   ]
  },
  {
   "cell_type": "code",
   "execution_count": null,
   "id": "ea283f94",
   "metadata": {},
   "outputs": [],
   "source": [
    "moment.save('C:/Users/athis/energyflow/networks/jetmass/moment')"
   ]
  },
  {
   "cell_type": "code",
   "execution_count": null,
   "id": "ddccfa86",
   "metadata": {},
   "outputs": [],
   "source": [
    "efn.save('C:/Users/athis/energyflow/networks/jetmass/efn_linear')"
   ]
  },
  {
   "cell_type": "code",
   "execution_count": null,
   "id": "e612cdec",
   "metadata": {},
   "outputs": [],
   "source": [
    "data_test = load('C:/Users/athis/.energyflow/datasets/QG_jets_18.npz', mmap_mode=None, allow_pickle=False, fix_imports=True, encoding='ASCII')\n",
    "X_test = data_test['X']\n",
    "del data_test"
   ]
  },
  {
   "cell_type": "code",
   "execution_count": null,
   "id": "d9f9cb58",
   "metadata": {},
   "outputs": [],
   "source": [
    "X_test = X_test[:,:,:3][0:10000]\n",
    "Y_test = []\n",
    "for x in X_test:\n",
    "    mask = x[:,0] > 0\n",
    "    yphi_avg = average(x[mask,1:3], weights=x[mask,0], axis=0)\n",
    "    x[mask,1:3] -= yphi_avg\n",
    "    x[mask,0] /= x[:,0].sum()\n",
    "    y = sum(x[mask,0]*(x[mask,1]**2 + x[mask,2]**2))\n",
    "    Y_test.append(y)\n",
    "X_test = [X_test[:,:,0], X_test[:,:,1:]]\n",
    "Y_test = np.array(Y_test)"
   ]
  },
  {
   "cell_type": "code",
   "execution_count": null,
   "id": "f6d7d43e",
   "metadata": {},
   "outputs": [],
   "source": [
    "moment = load_model('C:/Users/athis/energyflow/networks/jetmass/moment')\n",
    "efn_relu = load_model('C:/Users/athis/energyflow/networks/jetmass/efn_relu')\n",
    "efn_linear = load_model('C:/Users/athis/energyflow/networks/jetmass/efn_linear')"
   ]
  },
  {
   "cell_type": "code",
   "execution_count": null,
   "id": "c3f1991c",
   "metadata": {},
   "outputs": [],
   "source": [
    "Y_pred_list = [moment.predict(X_test), efn_relu.predict(X_test), efn_linear.predict(X_test)]"
   ]
  },
  {
   "cell_type": "code",
   "execution_count": null,
   "id": "25023346",
   "metadata": {},
   "outputs": [],
   "source": [
    "mse_list = [np.square(np.subtract(Y_test,Y_pred.squeeze()/100)).mean() for Y_pred in Y_pred_list]\n",
    "names = ['moment', 'efn_relu', 'efn_linear']"
   ]
  },
  {
   "cell_type": "code",
   "execution_count": null,
   "id": "29b057c2",
   "metadata": {},
   "outputs": [],
   "source": [
    "moment_auc = average(moment_auc_list)\n",
    "moment_std = std(moment_auc_list)\n",
    "efn_auc = average(efn_auc_list)\n",
    "efn_std = std(efn_auc_list)"
   ]
  },
  {
   "cell_type": "code",
   "execution_count": null,
   "id": "e32eadcd",
   "metadata": {
    "scrolled": true
   },
   "outputs": [],
   "source": [
    "import matplotlib.pyplot as plt\n",
    "plt.rcParams.update({'font.size': 22})\n",
    "fig, axes = plt.subplots(1, 1, figsize=(10,10))\n",
    "axes.set_ylabel('MSE')\n",
    "axes.bar(['2-Moment EFN', 'EFN'], [moment_auc, efn_auc])\n",
    "plt.errorbar(['2-Moment EFN', 'EFN'], [moment_auc, efn_auc], yerr=[moment_std, efn_std], fmt=\"o\", color=\"r\", capsize=15)\n",
    "axes.set_yscale('log')\n",
    "axes.set_ylim(0, 10**(-4))\n",
    "plt.show()"
   ]
  },
  {
   "cell_type": "code",
   "execution_count": null,
   "id": "3dbdb636",
   "metadata": {},
   "outputs": [],
   "source": [
    "fig, axes = plt.subplots(1, 1, figsize=(10,10))\n",
    "axes.scatter(Y_test,Y_pred_list[0].squeeze()/100)\n",
    "axes.set_ylabel('Moment Model Prediction')\n",
    "axes.set_xlabel('True Jet Mass Squared')\n",
    "plt.show()"
   ]
  },
  {
   "cell_type": "code",
   "execution_count": null,
   "id": "525ea20e",
   "metadata": {},
   "outputs": [],
   "source": [
    "print(moment_auc, efn_auc, moment_std, efn_std)"
   ]
  },
  {
   "cell_type": "code",
   "execution_count": null,
   "id": "da77ffde",
   "metadata": {},
   "outputs": [],
   "source": []
  }
 ],
 "metadata": {
  "kernelspec": {
   "display_name": "Python 3",
   "language": "python",
   "name": "python3"
  },
  "language_info": {
   "codemirror_mode": {
    "name": "ipython",
    "version": 3
   },
   "file_extension": ".py",
   "mimetype": "text/x-python",
   "name": "python",
   "nbconvert_exporter": "python",
   "pygments_lexer": "ipython3",
   "version": "3.8.11"
  }
 },
 "nbformat": 4,
 "nbformat_minor": 5
}
